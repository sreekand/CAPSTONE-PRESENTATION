{
 "cells": [
  {
   "cell_type": "markdown",
   "metadata": {
    "collapsed": true
   },
   "source": [
    "FINAL CAPSTONE PROJECT-COURSERA- BATTLE OF NEIGHBOURHOODS\n",
    "Submitted by\n",
    "\n",
    "SREEKAND BOSE\n",
    "Introduction\n",
    "\n",
    "The project deals with upcoming restaurants and the search of an upcoming restaurant location in the proximities of London. As London is a mix of various culture like asian,african and other european nationals there is a wide variety of food points everywhere. As if there are various cuisines in every nook and corner ,we can still check if there are enough Indian restaurants which are focused on north indian, south indian ,east indian,kashmiri and chinese mixed dishes.\n",
    "\n",
    "PROBLEM\n",
    "\n",
    "A large group of south indians are residing in London and they find it difficult to dinein in to a restaurent of their taste.so through this project we can help them to identify a proper location to setup a new restaurant based on their current amenities. Our data from Four square helps a lot to identify an affordable and convenient location where other restaurants are not a hindrance for their growth while taking the business on a long term vision.\n",
    "\n",
    "Target Audience\n",
    "\n",
    "The most targeted audiences are the South indians who resides in the downtown of London. As their need is to setup a diverse restaurant with wide variety of menu including european style mix with chinese and other asian dishes the audiences become more broader and the data driven can help most of the people who wants to start a restaurant or food corner."
   ]
  },
  {
   "cell_type": "markdown",
   "metadata": {},
   "source": [
    "METHODOLOGY\n",
    "\n",
    "The methodologies used for the outcome of our proven results gone through different stages starting From Problem to Approach,Requirements to Collection, Understanding to Preparation, Modeling to Evaluation and From Deployment to Feedback.\n",
    "If we look at the chart in the last image, we see that it is highly iterative and never ends; that’s because in a real case study, we have to repeat some steps to improve the model.\n",
    "From Problem to Approach\n",
    "Every customer’s request starts with a problem, and Data Scientists’ job is first to understand it and approach this problem with statistical and machine learning techniques.\n",
    "The Business Understanding stage is crucial because it helps to clarify the goal of the customer. In this stage, we have to ask a lot of questions to the customer about every single aspect of the problem; in this manner, we are sure that we will study data related, and at the end of this stage, we will have a list of business requirements.\n",
    "The next step is the Analytic Approach, where, once the business problem has been clearly stated, the data scientist can define the analytic approach to solve the problem. This step entails expressing the problem in the context of statistical and machine-learning techniques, and it is essential because it helps identify what type of patterns will be needed to address the question most effectively. If the issue is to determine the probabilities of something, then a predictive model might be used; if the question is to show relationships, a descriptive approach may be required, and if our problem requires counts, then statistical analysis is the best way to solve it. For each type of approach, we can use different algorithms."
   ]
  },
  {
   "cell_type": "code",
   "execution_count": null,
   "metadata": {},
   "outputs": [],
   "source": []
  }
 ],
 "metadata": {
  "kernelspec": {
   "display_name": "Python 3.6",
   "language": "python",
   "name": "python3"
  },
  "language_info": {
   "codemirror_mode": {
    "name": "ipython",
    "version": 3
   },
   "file_extension": ".py",
   "mimetype": "text/x-python",
   "name": "python",
   "nbconvert_exporter": "python",
   "pygments_lexer": "ipython3",
   "version": "3.6.9"
  }
 },
 "nbformat": 4,
 "nbformat_minor": 1
}
